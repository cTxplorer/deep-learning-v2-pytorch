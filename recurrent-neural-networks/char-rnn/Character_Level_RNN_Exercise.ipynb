{
  "nbformat": 4,
  "nbformat_minor": 0,
  "metadata": {
    "colab": {
      "name": "Character_Level_RNN_Exercise.ipynb",
      "version": "0.3.2",
      "provenance": [],
      "toc_visible": true
    },
    "kernelspec": {
      "name": "python3",
      "display_name": "Python 3"
    },
    "accelerator": "GPU"
  },
  "cells": [
    {
      "metadata": {
        "id": "_WNRqkubok-o",
        "colab_type": "text"
      },
      "cell_type": "markdown",
      "source": [
        "# Character-Level LSTM in PyTorch\n",
        "\n",
        "In this notebook, I'll construct a character-level LSTM with PyTorch. The network will train character by character on some text, then generate new text character by character. As an example, I will train on Anna Karenina. **This model will be able to generate new text based on the text from the book!**\n",
        "\n",
        "This network is based off of Andrej Karpathy's [post on RNNs](http://karpathy.github.io/2015/05/21/rnn-effectiveness/) and [implementation in Torch](https://github.com/karpathy/char-rnn). Below is the general architecture of the character-wise RNN.\n",
        "\n",
        "<img src=\"https://github.com/cTxplorer/deep-learning-v2-pytorch/blob/master/recurrent-neural-networks/char-rnn/assets/charseq.jpeg?raw=1\" width=\"500\">"
      ]
    },
    {
      "metadata": {
        "id": "tQoAX918ok-s",
        "colab_type": "text"
      },
      "cell_type": "markdown",
      "source": [
        "First let's load in our required resources for data loading and model creation."
      ]
    },
    {
      "metadata": {
        "id": "slQkV_XSo9IU",
        "colab_type": "code",
        "colab": {
          "base_uri": "https://localhost:8080/",
          "height": 55
        },
        "outputId": "2d2c73f0-9eb4-4e61-e7c3-805ce2928fae"
      },
      "cell_type": "code",
      "source": [
        "# http://pytorch.org/\n",
        "from os.path import exists\n",
        "from wheel.pep425tags import get_abbr_impl, get_impl_ver, get_abi_tag\n",
        "platform = '{}{}-{}'.format(get_abbr_impl(), get_impl_ver(), get_abi_tag())\n",
        "cuda_output = !ldconfig -p|grep cudart.so|sed -e 's/.*\\.\\([0-9]*\\)\\.\\([0-9]*\\)$/cu\\1\\2/'\n",
        "accelerator = cuda_output[0] if exists('/dev/nvidia0') else 'cpu'\n",
        "\n",
        "!pip install -q http://download.pytorch.org/whl/{accelerator}/torch-0.4.1-{platform}-linux_x86_64.whl torchvision\n",
        "import torch"
      ],
      "execution_count": 2,
      "outputs": [
        {
          "output_type": "stream",
          "text": [
            "tcmalloc: large alloc 1073750016 bytes == 0x5815c000 @  0x7fb65d9102a4 0x591a07 0x5b5d56 0x502e9a 0x506859 0x502209 0x502f3d 0x506859 0x504c28 0x502540 0x502f3d 0x506859 0x504c28 0x502540 0x502f3d 0x506859 0x504c28 0x502540 0x502f3d 0x507641 0x502209 0x502f3d 0x506859 0x504c28 0x502540 0x502f3d 0x507641 0x504c28 0x502540 0x502f3d 0x507641\n"
          ],
          "name": "stdout"
        }
      ]
    },
    {
      "metadata": {
        "id": "sijISZ_yok-u",
        "colab_type": "code",
        "colab": {}
      },
      "cell_type": "code",
      "source": [
        "import numpy as np\n",
        "import torch\n",
        "from torch import nn\n",
        "import torch.nn.functional as F"
      ],
      "execution_count": 0,
      "outputs": []
    },
    {
      "metadata": {
        "id": "SWhRMP9Yok-1",
        "colab_type": "text"
      },
      "cell_type": "markdown",
      "source": [
        "## Load in Data\n",
        "\n",
        "Then, we'll load the Anna Karenina text file and convert it into integers for our network to use. "
      ]
    },
    {
      "metadata": {
        "id": "1oywZIrKok-2",
        "colab_type": "code",
        "colab": {}
      },
      "cell_type": "code",
      "source": [
        "# open text file and read in data as `text`\n",
        "with open('anna.txt', 'r') as f:\n",
        "    text = f.read()"
      ],
      "execution_count": 0,
      "outputs": []
    },
    {
      "metadata": {
        "id": "YTsMXKwHok-_",
        "colab_type": "text"
      },
      "cell_type": "markdown",
      "source": [
        "Let's check out the first 100 characters, make sure everything is peachy. According to the [American Book Review](http://americanbookreview.org/100bestlines.asp), this is the 6th best first line of a book ever."
      ]
    },
    {
      "metadata": {
        "id": "0eOHyYbI1aYn",
        "colab_type": "text"
      },
      "cell_type": "markdown",
      "source": [
        "text = 'ABCDEFGH'"
      ]
    },
    {
      "metadata": {
        "id": "LBVlkTi0ok_H",
        "colab_type": "text"
      },
      "cell_type": "markdown",
      "source": [
        "### Tokenization\n",
        "\n",
        "In the cells, below, I'm creating a couple **dictionaries** to convert the characters to and from integers. Encoding the characters as integers makes it easier to use as input in the network."
      ]
    },
    {
      "metadata": {
        "id": "OLa9ImaNok_J",
        "colab_type": "code",
        "colab": {
          "base_uri": "https://localhost:8080/",
          "height": 91
        },
        "outputId": "fb119b3c-6858-4f79-8dfd-7f52e7931f0d"
      },
      "cell_type": "code",
      "source": [
        "# encode the text and map each character to an integer and vice versa\n",
        "\n",
        "# we create two dictionaries:\n",
        "# 1. int2char, which maps integers to characters\n",
        "# 2. char2int, which maps characters to unique integers\n",
        "chars = tuple(set(text))\n",
        "print(chars)\n",
        "int2char = dict(enumerate(chars))\n",
        "print(int2char)\n",
        "char2int = {ch: ii for ii, ch in int2char.items()}\n",
        "print(char2int)\n",
        "\n",
        "# encode the text\n",
        "encoded = np.array([char2int[ch] for ch in text])"
      ],
      "execution_count": 8,
      "outputs": [
        {
          "output_type": "stream",
          "text": [
            "(')', '?', 'A', 'z', '.', 's', 'K', 'x', '4', '\\n', '_', 'Y', 'M', 'o', 'd', 'V', 'Z', 'W', 'r', 'E', 'J', 'D', '`', '5', '1', 'w', 'y', 'v', \"'\", 'j', '3', 'b', 'B', '0', 'S', 'Q', 'P', 'I', '7', 'q', ':', '8', ',', 'm', 'a', 'p', 'u', 'k', '9', 'H', 'i', 'T', 'e', 'c', '!', '(', 'G', 'f', ' ', 'L', 't', 'l', 'g', 'O', 'N', 'C', 'n', 'F', ';', '\"', 'R', '6', 'h', '-', '2', 'U')\n",
            "{0: ')', 1: '?', 2: 'A', 3: 'z', 4: '.', 5: 's', 6: 'K', 7: 'x', 8: '4', 9: '\\n', 10: '_', 11: 'Y', 12: 'M', 13: 'o', 14: 'd', 15: 'V', 16: 'Z', 17: 'W', 18: 'r', 19: 'E', 20: 'J', 21: 'D', 22: '`', 23: '5', 24: '1', 25: 'w', 26: 'y', 27: 'v', 28: \"'\", 29: 'j', 30: '3', 31: 'b', 32: 'B', 33: '0', 34: 'S', 35: 'Q', 36: 'P', 37: 'I', 38: '7', 39: 'q', 40: ':', 41: '8', 42: ',', 43: 'm', 44: 'a', 45: 'p', 46: 'u', 47: 'k', 48: '9', 49: 'H', 50: 'i', 51: 'T', 52: 'e', 53: 'c', 54: '!', 55: '(', 56: 'G', 57: 'f', 58: ' ', 59: 'L', 60: 't', 61: 'l', 62: 'g', 63: 'O', 64: 'N', 65: 'C', 66: 'n', 67: 'F', 68: ';', 69: '\"', 70: 'R', 71: '6', 72: 'h', 73: '-', 74: '2', 75: 'U'}\n",
            "{')': 0, '?': 1, 'A': 2, 'z': 3, '.': 4, 's': 5, 'K': 6, 'x': 7, '4': 8, '\\n': 9, '_': 10, 'Y': 11, 'M': 12, 'o': 13, 'd': 14, 'V': 15, 'Z': 16, 'W': 17, 'r': 18, 'E': 19, 'J': 20, 'D': 21, '`': 22, '5': 23, '1': 24, 'w': 25, 'y': 26, 'v': 27, \"'\": 28, 'j': 29, '3': 30, 'b': 31, 'B': 32, '0': 33, 'S': 34, 'Q': 35, 'P': 36, 'I': 37, '7': 38, 'q': 39, ':': 40, '8': 41, ',': 42, 'm': 43, 'a': 44, 'p': 45, 'u': 46, 'k': 47, '9': 48, 'H': 49, 'i': 50, 'T': 51, 'e': 52, 'c': 53, '!': 54, '(': 55, 'G': 56, 'f': 57, ' ': 58, 'L': 59, 't': 60, 'l': 61, 'g': 62, 'O': 63, 'N': 64, 'C': 65, 'n': 66, 'F': 67, ';': 68, '\"': 69, 'R': 70, '6': 71, 'h': 72, '-': 73, '2': 74, 'U': 75}\n"
          ],
          "name": "stdout"
        }
      ]
    },
    {
      "metadata": {
        "id": "748Q0dK0ok_O",
        "colab_type": "text"
      },
      "cell_type": "markdown",
      "source": [
        "And we can see those same characters from above, encoded as integers."
      ]
    },
    {
      "metadata": {
        "id": "Ph6k2L0sok_R",
        "colab_type": "code",
        "colab": {
          "base_uri": "https://localhost:8080/",
          "height": 125
        },
        "outputId": "3dae6e78-42c4-4c0a-e733-fbb82ab80f90"
      },
      "cell_type": "code",
      "source": [
        "encoded[:100]"
      ],
      "execution_count": 9,
      "outputs": [
        {
          "output_type": "execute_result",
          "data": {
            "text/plain": [
              "array([65, 72, 44, 45, 60, 52, 18, 58, 24,  9,  9,  9, 49, 44, 45, 45, 26,\n",
              "       58, 57, 44, 43, 50, 61, 50, 52,  5, 58, 44, 18, 52, 58, 44, 61, 61,\n",
              "       58, 44, 61, 50, 47, 52, 68, 58, 52, 27, 52, 18, 26, 58, 46, 66, 72,\n",
              "       44, 45, 45, 26, 58, 57, 44, 43, 50, 61, 26, 58, 50,  5, 58, 46, 66,\n",
              "       72, 44, 45, 45, 26, 58, 50, 66, 58, 50, 60,  5, 58, 13, 25, 66,  9,\n",
              "       25, 44, 26,  4,  9,  9, 19, 27, 52, 18, 26, 60, 72, 50, 66])"
            ]
          },
          "metadata": {
            "tags": []
          },
          "execution_count": 9
        }
      ]
    },
    {
      "metadata": {
        "id": "sLd5oB1xok_Y",
        "colab_type": "text"
      },
      "cell_type": "markdown",
      "source": [
        "## Pre-processing the data\n",
        "\n",
        "As you can see in our char-RNN image above, our LSTM expects an input that is **one-hot encoded** meaning that each character is converted into an integer (via our created dictionary) and *then* converted into a column vector where only it's corresponding integer index will have the value of 1 and the rest of the vector will be filled with 0's. Since we're one-hot encoding the data, let's make a function to do that!\n"
      ]
    },
    {
      "metadata": {
        "id": "GxEN71PBok_a",
        "colab_type": "code",
        "colab": {}
      },
      "cell_type": "code",
      "source": [
        "def one_hot_encode(arr, n_labels):\n",
        "    \n",
        "    # Initialize the the encoded array\n",
        "    one_hot = np.zeros((np.multiply(*arr.shape), n_labels), dtype=np.float32)\n",
        "    \n",
        "    # Fill the appropriate elements with ones\n",
        "    one_hot[np.arange(one_hot.shape[0]), arr.flatten()] = 1.\n",
        "    \n",
        "    # Finally reshape it to get back to the original array\n",
        "    one_hot = one_hot.reshape((*arr.shape, n_labels))\n",
        "    \n",
        "    return one_hot"
      ],
      "execution_count": 0,
      "outputs": []
    },
    {
      "metadata": {
        "id": "ln9cR2LFok_i",
        "colab_type": "code",
        "colab": {
          "base_uri": "https://localhost:8080/",
          "height": 71
        },
        "outputId": "c1679269-9ee2-4a42-b586-2ee1ac3d2644"
      },
      "cell_type": "code",
      "source": [
        "# check that the function works as expected\n",
        "test_seq = np.array([[3, 5, 1]])\n",
        "one_hot = one_hot_encode(test_seq, 8)\n",
        "\n",
        "print(one_hot)"
      ],
      "execution_count": 11,
      "outputs": [
        {
          "output_type": "stream",
          "text": [
            "[[[0. 0. 0. 1. 0. 0. 0. 0.]\n",
            "  [0. 0. 0. 0. 0. 1. 0. 0.]\n",
            "  [0. 1. 0. 0. 0. 0. 0. 0.]]]\n"
          ],
          "name": "stdout"
        }
      ]
    },
    {
      "metadata": {
        "id": "dO-0-Qf1ok_p",
        "colab_type": "text"
      },
      "cell_type": "markdown",
      "source": [
        "## Making training mini-batches\n",
        "\n",
        "\n",
        "To train on this data, we also want to create mini-batches for training. Remember that we want our batches to be multiple sequences of some desired number of sequence steps. Considering a simple example, our batches would look like this:\n",
        "\n",
        "<img src=\"https://github.com/cTxplorer/deep-learning-v2-pytorch/blob/master/recurrent-neural-networks/char-rnn/assets/sequence_batching@1x.png?raw=1\" width=500px>\n",
        "\n",
        "\n",
        "<br>\n",
        "\n",
        "In this example, we'll take the encoded characters (passed in as the `arr` parameter) and split them into multiple sequences, given by `batch_size`. Each of our sequences will be `seq_length` long.\n",
        "\n",
        "### Creating Batches\n",
        "\n",
        "**1. The first thing we need to do is discard some of the text so we only have completely full mini-batches. **\n",
        "\n",
        "Each batch contains $N \\times M$ characters, where $N$ is the batch size (the number of sequences in a batch) and $M$ is the seq_length or number of time steps in a sequence. Then, to get the total number of batches, $K$, that we can make from the array `arr`, you divide the length of `arr` by the number of characters per batch. Once you know the number of batches, you can get the total number of characters to keep from `arr`, $N * M * K$.\n",
        "\n",
        "**2. After that, we need to split `arr` into $N$ batches. ** \n",
        "\n",
        "You can do this using `arr.reshape(size)` where `size` is a tuple containing the dimensions sizes of the reshaped array. We know we want $N$ sequences in a batch, so let's make that the size of the first dimension. For the second dimension, you can use `-1` as a placeholder in the size, it'll fill up the array with the appropriate data for you. After this, you should have an array that is $N \\times (M * K)$.\n",
        "\n",
        "**3. Now that we have this array, we can iterate through it to get our mini-batches. **\n",
        "\n",
        "The idea is each batch is a $N \\times M$ window on the $N \\times (M * K)$ array. For each subsequent batch, the window moves over by `seq_length`. We also want to create both the input and target arrays. Remember that the targets are just the inputs shifted over by one character. The way I like to do this window is use `range` to take steps of size `n_steps` from $0$ to `arr.shape[1]`, the total number of tokens in each sequence. That way, the integers you get from `range` always point to the start of a batch, and each window is `seq_length` wide.\n",
        "\n",
        "> **TODO:** Write the code for creating batches in the function below. The exercises in this notebook _will not be easy_. I've provided a notebook with solutions alongside this notebook. If you get stuck, checkout the solutions. The most important thing is that you don't copy and paste the code into here, **type out the solution code yourself.**"
      ]
    },
    {
      "metadata": {
        "id": "3Y4774QFok_s",
        "colab_type": "code",
        "colab": {}
      },
      "cell_type": "code",
      "source": [
        "def get_batches(arr, batch_size, seq_length):\n",
        "    '''Create a generator that returns batches of size\n",
        "       batch_size x seq_length from arr.\n",
        "       \n",
        "       Arguments\n",
        "       ---------\n",
        "       arr: Array you want to make batches from\n",
        "       batch_size: Batch size, the number of sequences per batch\n",
        "       seq_length: Number of encoded chars in a sequence\n",
        "    '''\n",
        "    \n",
        "    ## TODO: Get the number of batches we can make\n",
        "    n_batches = arr.size // (batch_size*seq_length)\n",
        "    \n",
        "    ## TODO: Keep only enough characters to make full batches\n",
        "    arr = arr[:batch_size*seq_length*n_batches]\n",
        "    \n",
        "    ## TODO: Reshape into batch_size rows\n",
        "    arr = arr.reshape((batch_size, -1))\n",
        "    \n",
        "    ## TODO: Iterate over the batches using a window of size seq_length\n",
        "    for n in range(0, arr.shape[1], seq_length):\n",
        "        # The features\n",
        "        x = arr[:, n:n+seq_length]\n",
        "        # The targets, shifted by one\n",
        "        y = np.zeros_like(x)\n",
        "        try:\n",
        "          y[:, :-1], y[:, -1] = x[:, 1:], arr[:, n+seq_length]\n",
        "        except IndexError:\n",
        "          y[:, :-1], y[:, -1] = x[:, 1:], arr[:, 0]\n",
        "        yield x, y\n",
        "    "
      ],
      "execution_count": 0,
      "outputs": []
    },
    {
      "metadata": {
        "id": "gJe1Bds9ok_z",
        "colab_type": "text"
      },
      "cell_type": "markdown",
      "source": [
        "### Test Your Implementation\n",
        "\n",
        "Now I'll make some data sets and we can check out what's going on as we batch data. Here, as an example, I'm going to use a batch size of 8 and 50 sequence steps."
      ]
    },
    {
      "metadata": {
        "id": "lGxBPSwDok_1",
        "colab_type": "code",
        "colab": {}
      },
      "cell_type": "code",
      "source": [
        "batches = get_batches(encoded, 8, 50)\n",
        "x, y = next(batches)"
      ],
      "execution_count": 0,
      "outputs": []
    },
    {
      "metadata": {
        "id": "eg2VE6K7ok_7",
        "colab_type": "code",
        "colab": {
          "base_uri": "https://localhost:8080/",
          "height": 359
        },
        "outputId": "e1b4d4f4-8263-4851-ec6c-54b57becd43d"
      },
      "cell_type": "code",
      "source": [
        "# printing out the first 10 items in a sequence\n",
        "print('x\\n', x[:10, :10])\n",
        "print('\\ny\\n', y[:10, :10])"
      ],
      "execution_count": 14,
      "outputs": [
        {
          "output_type": "stream",
          "text": [
            "x\n",
            " [[65 72 44 45 60 52 18 58 24  9]\n",
            " [52 14 58 59 52 27 50 66  4  9]\n",
            " [52 18 58 53 44 18 18 50 44 62]\n",
            " [66 13 43 50 53 42  9 52 60 72]\n",
            " [66 44 61 58 57 13 18 43  5 58]\n",
            " [58 44 61 61 58 25 52 66 60 58]\n",
            " [60 58 44 66 14 58 60 25 50 60]\n",
            " [52  4 69  9  9  2 60 58 60 72]]\n",
            "\n",
            "y\n",
            " [[72 44 45 60 52 18 58 24  9  9]\n",
            " [14 58 59 52 27 50 66  4  9  9]\n",
            " [18 58 53 44 18 18 50 44 62 52]\n",
            " [13 43 50 53 42  9 52 60 72 66]\n",
            " [44 61 58 57 13 18 43  5 58 13]\n",
            " [44 61 61 58 25 52 66 60 58 13]\n",
            " [58 44 66 14 58 60 25 50 60 53]\n",
            " [ 4 69  9  9  2 60 58 60 72 52]]\n"
          ],
          "name": "stdout"
        }
      ]
    },
    {
      "metadata": {
        "id": "vYwzk5NWolAA",
        "colab_type": "text"
      },
      "cell_type": "markdown",
      "source": [
        "If you implemented `get_batches` correctly, the above output should look something like \n",
        "```\n",
        "x\n",
        " [[25  8 60 11 45 27 28 73  1  2]\n",
        " [17  7 20 73 45  8 60 45 73 60]\n",
        " [27 20 80 73  7 28 73 60 73 65]\n",
        " [17 73 45  8 27 73 66  8 46 27]\n",
        " [73 17 60 12 73  8 27 28 73 45]\n",
        " [66 64 17 17 46  7 20 73 60 20]\n",
        " [73 76 20 20 60 73  8 60 80 73]\n",
        " [47 35 43  7 20 17 24 50 37 73]]\n",
        "\n",
        "y\n",
        " [[ 8 60 11 45 27 28 73  1  2  2]\n",
        " [ 7 20 73 45  8 60 45 73 60 45]\n",
        " [20 80 73  7 28 73 60 73 65  7]\n",
        " [73 45  8 27 73 66  8 46 27 65]\n",
        " [17 60 12 73  8 27 28 73 45 27]\n",
        " [64 17 17 46  7 20 73 60 20 80]\n",
        " [76 20 20 60 73  8 60 80 73 17]\n",
        " [35 43  7 20 17 24 50 37 73 36]]\n",
        " ```\n",
        " although the exact numbers may be different. Check to make sure the data is shifted over one step for `y`."
      ]
    },
    {
      "metadata": {
        "id": "KXBEQMw1olAD",
        "colab_type": "text"
      },
      "cell_type": "markdown",
      "source": [
        "---\n",
        "## Defining the network with PyTorch\n",
        "\n",
        "Below is where you'll define the network.\n",
        "\n",
        "<img src=\"https://github.com/cTxplorer/deep-learning-v2-pytorch/blob/master/recurrent-neural-networks/char-rnn/assets/charRNN.png?raw=1\" width=500px>\n",
        "\n",
        "Next, you'll use PyTorch to define the architecture of the network. We start by defining the layers and operations we want. Then, define a method for the forward pass. You've also been given a method for predicting characters."
      ]
    },
    {
      "metadata": {
        "id": "R1uCgSngolAF",
        "colab_type": "text"
      },
      "cell_type": "markdown",
      "source": [
        "### Model Structure\n",
        "\n",
        "In `__init__` the suggested structure is as follows:\n",
        "* Create and store the necessary dictionaries (this has been done for you)\n",
        "* Define an LSTM layer that takes as params: an input size (the number of characters), a hidden layer size `n_hidden`, a number of layers `n_layers`, a dropout probability `drop_prob`, and a batch_first boolean (True, since we are batching)\n",
        "* Define a dropout layer with `dropout_prob`\n",
        "* Define a fully-connected layer with params: input size `n_hidden` and output size (the number of characters)\n",
        "* Finally, initialize the weights (again, this has been given)\n",
        "\n",
        "Note that some parameters have been named and given in the `__init__` function, and we use them and store them by doing something like `self.drop_prob = drop_prob`."
      ]
    },
    {
      "metadata": {
        "id": "OnnNixnyolAH",
        "colab_type": "text"
      },
      "cell_type": "markdown",
      "source": [
        "---\n",
        "### LSTM Inputs/Outputs\n",
        "\n",
        "You can create a basic [LSTM layer](https://pytorch.org/docs/stable/nn.html#lstm) as follows\n",
        "\n",
        "```python\n",
        "self.lstm = nn.LSTM(input_size, n_hidden, n_layers, \n",
        "                            dropout=drop_prob, batch_first=True)\n",
        "```\n",
        "\n",
        "where `input_size` is the number of characters this cell expects to see as sequential input, and `n_hidden` is the number of units in the hidden layers in the cell. And we can add dropout by adding a dropout parameter with a specified probability; this will automatically add dropout to the inputs or outputs. Finally, in the `forward` function, we can stack up the LSTM cells into layers using `.view`. With this, you pass in a list of cells and it will send the output of one cell into the next cell.\n",
        "\n",
        "We also need to create an initial hidden state of all zeros. This is done like so\n",
        "\n",
        "```python\n",
        "self.init_hidden()\n",
        "```"
      ]
    },
    {
      "metadata": {
        "id": "yIRA42cVolAJ",
        "colab_type": "code",
        "colab": {
          "base_uri": "https://localhost:8080/",
          "height": 35
        },
        "outputId": "df27b38c-5348-44af-91d8-0156aa8929d2"
      },
      "cell_type": "code",
      "source": [
        "# check if GPU is available\n",
        "train_on_gpu = torch.cuda.is_available()\n",
        "if(train_on_gpu):\n",
        "    print('Training on GPU!')\n",
        "else: \n",
        "    print('No GPU available, training on CPU; consider making n_epochs very small.')"
      ],
      "execution_count": 15,
      "outputs": [
        {
          "output_type": "stream",
          "text": [
            "Training on GPU!\n"
          ],
          "name": "stdout"
        }
      ]
    },
    {
      "metadata": {
        "id": "W5hv9WRLolAO",
        "colab_type": "code",
        "colab": {}
      },
      "cell_type": "code",
      "source": [
        "class CharRNN(nn.Module):\n",
        "    \n",
        "    def __init__(self, tokens, n_hidden=256, n_layers=2,\n",
        "                               drop_prob=0.5, lr=0.001):\n",
        "        super().__init__()\n",
        "        self.drop_prob = drop_prob\n",
        "        self.n_layers = n_layers\n",
        "        self.n_hidden = n_hidden\n",
        "        self.lr = lr\n",
        "        \n",
        "        # creating character dictionaries\n",
        "        self.chars = tokens\n",
        "        self.int2char = dict(enumerate(self.chars))\n",
        "        self.char2int = {ch: ii for ii, ch in self.int2char.items()}\n",
        "        \n",
        "        ## TODO: define the layers of the model\n",
        "        self.lstm = nn.LSTM(len(self.chars), n_hidden, n_layers, \n",
        "                            dropout=drop_prob, batch_first=True)\n",
        "        \n",
        "        self.dropout = nn.Dropout(drop_prob)\n",
        "        \n",
        "        self.fc = nn.Linear(n_hidden, len(self.chars))\n",
        "      \n",
        "    def forward(self, x, hidden):\n",
        "        ''' Forward pass through the network. \n",
        "            These inputs are x, and the hidden/cell state `hidden`. '''\n",
        "                \n",
        "        ## TODO: Get the outputs and the new hidden state from the lstm\n",
        "        r_output, hidden = self.lstm(x, hidden)\n",
        "        \n",
        "        out = self.dropout(r_output)\n",
        "        \n",
        "        out = out.contiguous().view(-1, self.n_hidden)\n",
        "        \n",
        "        out = self.fc(out)\n",
        "        \n",
        "        # return the final output and the hidden state\n",
        "        return out, hidden\n",
        "    \n",
        "    \n",
        "    def init_hidden(self, batch_size):\n",
        "        ''' Initializes hidden state '''\n",
        "        # Create two new tensors with sizes n_layers x batch_size x n_hidden,\n",
        "        # initialized to zero, for hidden state and cell state of LSTM\n",
        "        weight = next(self.parameters()).data\n",
        "        \n",
        "        if (train_on_gpu):\n",
        "            hidden = (weight.new(self.n_layers, batch_size, self.n_hidden).zero_().cuda(),\n",
        "                  weight.new(self.n_layers, batch_size, self.n_hidden).zero_().cuda())\n",
        "        else:\n",
        "            hidden = (weight.new(self.n_layers, batch_size, self.n_hidden).zero_(),\n",
        "                      weight.new(self.n_layers, batch_size, self.n_hidden).zero_())\n",
        "        \n",
        "        return hidden\n",
        "        "
      ],
      "execution_count": 0,
      "outputs": []
    },
    {
      "metadata": {
        "id": "Of-8IRr5olAW",
        "colab_type": "text"
      },
      "cell_type": "markdown",
      "source": [
        "## Time to train\n",
        "\n",
        "The train function gives us the ability to set the number of epochs, the learning rate, and other parameters.\n",
        "\n",
        "Below we're using an Adam optimizer and cross entropy loss since we are looking at character class scores as output. We calculate the loss and perform backpropagation, as usual!\n",
        "\n",
        "A couple of details about training: \n",
        ">* Within the batch loop, we detach the hidden state from its history; this time setting it equal to a new *tuple* variable because an LSTM has a hidden state that is a tuple of the hidden and cell states.\n",
        "* We use [`clip_grad_norm_`](https://pytorch.org/docs/stable/_modules/torch/nn/utils/clip_grad.html) to help prevent exploding gradients."
      ]
    },
    {
      "metadata": {
        "id": "2ltioKuqolAY",
        "colab_type": "code",
        "colab": {}
      },
      "cell_type": "code",
      "source": [
        "def train(net, data, epochs=10, batch_size=10, seq_length=50, lr=0.001, clip=5, val_frac=0.15, print_every=10):\n",
        "    ''' Training a network \n",
        "    \n",
        "        Arguments\n",
        "        ---------\n",
        "        \n",
        "        net: CharRNN network\n",
        "        data: text data to train the network\n",
        "        epochs: Number of epochs to train\n",
        "        batch_size: Number of mini-sequences per mini-batch, aka batch size\n",
        "        seq_length: Number of character steps per mini-batch\n",
        "        lr: learning rate\n",
        "        clip: gradient clipping\n",
        "        val_frac: Fraction of data to hold out for validation\n",
        "        print_every: Number of steps for printing training and validation loss\n",
        "    \n",
        "    '''\n",
        "    net.train()\n",
        "    \n",
        "    opt = torch.optim.Adam(net.parameters(), lr=lr)\n",
        "    criterion = nn.CrossEntropyLoss()\n",
        "    \n",
        "    # create training and validation data\n",
        "    val_idx = int(len(data)*(1-val_frac))\n",
        "    data, val_data = data[:val_idx], data[val_idx:]\n",
        "    \n",
        "    if(train_on_gpu):\n",
        "        net.cuda()\n",
        "    \n",
        "    counter = 0\n",
        "    n_chars = len(net.chars)\n",
        "    for e in range(epochs):\n",
        "        # initialize hidden state\n",
        "        h = net.init_hidden(batch_size)\n",
        "        \n",
        "        for x, y in get_batches(data, batch_size, seq_length):\n",
        "            counter += 1\n",
        "            \n",
        "            # One-hot encode our data and make them Torch tensors\n",
        "            x = one_hot_encode(x, n_chars)\n",
        "            inputs, targets = torch.from_numpy(x), torch.from_numpy(y)\n",
        "            \n",
        "            if(train_on_gpu):\n",
        "                inputs, targets = inputs.cuda(), targets.cuda()\n",
        "\n",
        "            # Creating new variables for the hidden state, otherwise\n",
        "            # we'd backprop through the entire training history\n",
        "            h = tuple([each.data for each in h])\n",
        "\n",
        "            # zero accumulated gradients\n",
        "            net.zero_grad()\n",
        "            \n",
        "            # get the output from the model\n",
        "            output, h = net(inputs, h)\n",
        "            \n",
        "            # calculate the loss and perform backprop\n",
        "            loss = criterion(output, targets.view(batch_size*seq_length))\n",
        "            loss.backward()\n",
        "            # `clip_grad_norm` helps prevent the exploding gradient problem in RNNs / LSTMs.\n",
        "            nn.utils.clip_grad_norm_(net.parameters(), clip)\n",
        "            opt.step()\n",
        "            \n",
        "            # loss stats\n",
        "            if counter % print_every == 0:\n",
        "                # Get validation loss\n",
        "                val_h = net.init_hidden(batch_size)\n",
        "                val_losses = []\n",
        "                net.eval()\n",
        "                for x, y in get_batches(val_data, batch_size, seq_length):\n",
        "                    # One-hot encode our data and make them Torch tensors\n",
        "                    x = one_hot_encode(x, n_chars)\n",
        "                    x, y = torch.from_numpy(x), torch.from_numpy(y)\n",
        "                    \n",
        "                    # Creating new variables for the hidden state, otherwise\n",
        "                    # we'd backprop through the entire training history\n",
        "                    val_h = tuple([each.data for each in val_h])\n",
        "                    \n",
        "                    inputs, targets = x, y\n",
        "                    if(train_on_gpu):\n",
        "                        inputs, targets = inputs.cuda(), targets.cuda()\n",
        "\n",
        "                    output, val_h = net(inputs, val_h)\n",
        "                    val_loss = criterion(output, targets.view(batch_size*seq_length))\n",
        "                \n",
        "                    val_losses.append(val_loss.item())\n",
        "                \n",
        "                net.train() # reset to train mode after iterationg through validation data\n",
        "                \n",
        "                print(\"Epoch: {}/{}...\".format(e+1, epochs),\n",
        "                      \"Step: {}...\".format(counter),\n",
        "                      \"Loss: {:.4f}...\".format(loss.item()),\n",
        "                      \"Val Loss: {:.4f}\".format(np.mean(val_losses)))"
      ],
      "execution_count": 0,
      "outputs": []
    },
    {
      "metadata": {
        "id": "f_WtiUQiolAh",
        "colab_type": "text"
      },
      "cell_type": "markdown",
      "source": [
        "## Instantiating the model\n",
        "\n",
        "Now we can actually train the network. First we'll create the network itself, with some given hyperparameters. Then, define the mini-batches sizes, and start training!"
      ]
    },
    {
      "metadata": {
        "id": "qF31THyxolAm",
        "colab_type": "code",
        "colab": {
          "base_uri": "https://localhost:8080/",
          "height": 107
        },
        "outputId": "34ea2e37-15cb-43d2-8c76-ce40d68ff571"
      },
      "cell_type": "code",
      "source": [
        "## TODO: set you model hyperparameters\n",
        "# define and print the net\n",
        "n_hidden=1024\n",
        "n_layers=2\n",
        "\n",
        "net = CharRNN(chars, n_hidden, n_layers)\n",
        "print(net)"
      ],
      "execution_count": 42,
      "outputs": [
        {
          "output_type": "stream",
          "text": [
            "CharRNN(\n",
            "  (lstm): LSTM(76, 1024, num_layers=2, batch_first=True, dropout=0.5)\n",
            "  (dropout): Dropout(p=0.5)\n",
            "  (fc): Linear(in_features=1024, out_features=76, bias=True)\n",
            ")\n"
          ],
          "name": "stdout"
        }
      ]
    },
    {
      "metadata": {
        "id": "B1LxdKwAolAu",
        "colab_type": "text"
      },
      "cell_type": "markdown",
      "source": [
        "### Set your training hyperparameters!"
      ]
    },
    {
      "metadata": {
        "scrolled": true,
        "id": "g_tfyuWiolAx",
        "colab_type": "code",
        "colab": {
          "base_uri": "https://localhost:8080/",
          "height": 971
        },
        "outputId": "c9bdf973-ea76-49bb-f687-5205f9415071"
      },
      "cell_type": "code",
      "source": [
        "batch_size = 128\n",
        "seq_length = 128\n",
        "n_epochs =  20 # start small if you are just testing initial behavior\n",
        "\n",
        "# train the model\n",
        "train(net, encoded, epochs=n_epochs, batch_size=batch_size, seq_length=seq_length, lr=0.001, print_every=20)"
      ],
      "execution_count": 43,
      "outputs": [
        {
          "output_type": "stream",
          "text": [
            "Epoch: 1/20... Step: 20... Loss: 3.1511... Val Loss: 3.1238\n",
            "Epoch: 1/20... Step: 40... Loss: 3.1036... Val Loss: 3.1123\n",
            "Epoch: 2/20... Step: 60... Loss: 3.0847... Val Loss: 3.0924\n",
            "Epoch: 2/20... Step: 80... Loss: 2.9848... Val Loss: 2.9713\n",
            "Epoch: 2/20... Step: 100... Loss: 2.6922... Val Loss: 2.7611\n",
            "Epoch: 3/20... Step: 120... Loss: 2.4496... Val Loss: 2.5602\n",
            "Epoch: 3/20... Step: 140... Loss: 2.3683... Val Loss: 2.4579\n",
            "Epoch: 4/20... Step: 160... Loss: 2.3207... Val Loss: 2.2574\n",
            "Epoch: 4/20... Step: 180... Loss: 2.1954... Val Loss: 2.1326\n",
            "Epoch: 4/20... Step: 200... Loss: 2.1090... Val Loss: 2.0368\n",
            "Epoch: 5/20... Step: 220... Loss: 1.9829... Val Loss: 1.9403\n",
            "Epoch: 5/20... Step: 240... Loss: 1.9460... Val Loss: 1.8599\n",
            "Epoch: 5/20... Step: 260... Loss: 1.9021... Val Loss: 1.7853\n",
            "Epoch: 6/20... Step: 280... Loss: 1.8349... Val Loss: 1.7265\n",
            "Epoch: 6/20... Step: 300... Loss: 1.7362... Val Loss: 1.6625\n",
            "Epoch: 7/20... Step: 320... Loss: 1.7124... Val Loss: 1.6206\n",
            "Epoch: 7/20... Step: 340... Loss: 1.6873... Val Loss: 1.5731\n",
            "Epoch: 7/20... Step: 360... Loss: 1.6483... Val Loss: 1.5407\n",
            "Epoch: 8/20... Step: 380... Loss: 1.5691... Val Loss: 1.5065\n",
            "Epoch: 8/20... Step: 400... Loss: 1.5763... Val Loss: 1.4713\n",
            "Epoch: 8/20... Step: 420... Loss: 1.5239... Val Loss: 1.4414\n",
            "Epoch: 9/20... Step: 440... Loss: 1.5263... Val Loss: 1.4228\n",
            "Epoch: 9/20... Step: 460... Loss: 1.4951... Val Loss: 1.3974\n",
            "Epoch: 10/20... Step: 480... Loss: 1.4409... Val Loss: 1.3779\n",
            "Epoch: 10/20... Step: 500... Loss: 1.4368... Val Loss: 1.3592\n",
            "Epoch: 10/20... Step: 520... Loss: 1.4071... Val Loss: 1.3434\n",
            "Epoch: 11/20... Step: 540... Loss: 1.4345... Val Loss: 1.3332\n",
            "Epoch: 11/20... Step: 560... Loss: 1.4090... Val Loss: 1.3186\n",
            "Epoch: 11/20... Step: 580... Loss: 1.3656... Val Loss: 1.3040\n",
            "Epoch: 12/20... Step: 600... Loss: 1.3408... Val Loss: 1.2940\n",
            "Epoch: 12/20... Step: 620... Loss: 1.3669... Val Loss: 1.2870\n",
            "Epoch: 13/20... Step: 640... Loss: 1.3133... Val Loss: 1.2813\n",
            "Epoch: 13/20... Step: 660... Loss: 1.3429... Val Loss: 1.2694\n",
            "Epoch: 13/20... Step: 680... Loss: 1.2936... Val Loss: 1.2625\n",
            "Epoch: 14/20... Step: 700... Loss: 1.2844... Val Loss: 1.2579\n",
            "Epoch: 14/20... Step: 720... Loss: 1.2953... Val Loss: 1.2469\n",
            "Epoch: 14/20... Step: 740... Loss: 1.2892... Val Loss: 1.2419\n",
            "Epoch: 15/20... Step: 760... Loss: 1.2819... Val Loss: 1.2376\n",
            "Epoch: 15/20... Step: 780... Loss: 1.2989... Val Loss: 1.2313\n",
            "Epoch: 16/20... Step: 800... Loss: 1.2631... Val Loss: 1.2270\n",
            "Epoch: 16/20... Step: 820... Loss: 1.2651... Val Loss: 1.2260\n",
            "Epoch: 16/20... Step: 840... Loss: 1.2335... Val Loss: 1.2182\n",
            "Epoch: 17/20... Step: 860... Loss: 1.2077... Val Loss: 1.2159\n",
            "Epoch: 17/20... Step: 880... Loss: 1.2338... Val Loss: 1.2077\n",
            "Epoch: 17/20... Step: 900... Loss: 1.2084... Val Loss: 1.2051\n",
            "Epoch: 18/20... Step: 920... Loss: 1.2167... Val Loss: 1.2017\n",
            "Epoch: 18/20... Step: 940... Loss: 1.2013... Val Loss: 1.2030\n",
            "Epoch: 19/20... Step: 960... Loss: 1.1726... Val Loss: 1.1900\n",
            "Epoch: 19/20... Step: 980... Loss: 1.1755... Val Loss: 1.1924\n",
            "Epoch: 19/20... Step: 1000... Loss: 1.1643... Val Loss: 1.1863\n",
            "Epoch: 20/20... Step: 1020... Loss: 1.1528... Val Loss: 1.1853\n",
            "Epoch: 20/20... Step: 1040... Loss: 1.1550... Val Loss: 1.1784\n",
            "Epoch: 20/20... Step: 1060... Loss: 1.1789... Val Loss: 1.1795\n"
          ],
          "name": "stdout"
        }
      ]
    },
    {
      "metadata": {
        "id": "plw9nPkeolA3",
        "colab_type": "text"
      },
      "cell_type": "markdown",
      "source": [
        "## Getting the best model\n",
        "\n",
        "To set your hyperparameters to get the best performance, you'll want to watch the training and validation losses. If your training loss is much lower than the validation loss, you're overfitting. Increase regularization (more dropout) or use a smaller network. If the training and validation losses are close, you're underfitting so you can increase the size of the network."
      ]
    },
    {
      "metadata": {
        "id": "qNYsXcJMolA5",
        "colab_type": "text"
      },
      "cell_type": "markdown",
      "source": [
        "## Hyperparameters\n",
        "\n",
        "Here are the hyperparameters for the network.\n",
        "\n",
        "In defining the model:\n",
        "* `n_hidden` - The number of units in the hidden layers.\n",
        "* `n_layers` - Number of hidden LSTM layers to use.\n",
        "\n",
        "We assume that dropout probability and learning rate will be kept at the default, in this example.\n",
        "\n",
        "And in training:\n",
        "* `batch_size` - Number of sequences running through the network in one pass.\n",
        "* `seq_length` - Number of characters in the sequence the network is trained on. Larger is better typically, the network will learn more long range dependencies. But it takes longer to train. 100 is typically a good number here.\n",
        "* `lr` - Learning rate for training\n",
        "\n",
        "Here's some good advice from Andrej Karpathy on training the network. I'm going to copy it in here for your benefit, but also link to [where it originally came from](https://github.com/karpathy/char-rnn#tips-and-tricks).\n",
        "\n",
        "> ## Tips and Tricks\n",
        "\n",
        ">### Monitoring Validation Loss vs. Training Loss\n",
        ">If you're somewhat new to Machine Learning or Neural Networks it can take a bit of expertise to get good models. The most important quantity to keep track of is the difference between your training loss (printed during training) and the validation loss (printed once in a while when the RNN is run on the validation data (by default every 1000 iterations)). In particular:\n",
        "\n",
        "> - If your training loss is much lower than validation loss then this means the network might be **overfitting**. Solutions to this are to decrease your network size, or to increase dropout. For example you could try dropout of 0.5 and so on.\n",
        "> - If your training/validation loss are about equal then your model is **underfitting**. Increase the size of your model (either number of layers or the raw number of neurons per layer)\n",
        "\n",
        "> ### Approximate number of parameters\n",
        "\n",
        "> The two most important parameters that control the model are `n_hidden` and `n_layers`. I would advise that you always use `n_layers` of either 2/3. The `n_hidden` can be adjusted based on how much data you have. The two important quantities to keep track of here are:\n",
        "\n",
        "> - The number of parameters in your model. This is printed when you start training.\n",
        "> - The size of your dataset. 1MB file is approximately 1 million characters.\n",
        "\n",
        ">These two should be about the same order of magnitude. It's a little tricky to tell. Here are some examples:\n",
        "\n",
        "> - I have a 100MB dataset and I'm using the default parameter settings (which currently print 150K parameters). My data size is significantly larger (100 mil >> 0.15 mil), so I expect to heavily underfit. I am thinking I can comfortably afford to make `n_hidden` larger.\n",
        "> - I have a 10MB dataset and running a 10 million parameter model. I'm slightly nervous and I'm carefully monitoring my validation loss. If it's larger than my training loss then I may want to try to increase dropout a bit and see if that helps the validation loss.\n",
        "\n",
        "> ### Best models strategy\n",
        "\n",
        ">The winning strategy to obtaining very good models (if you have the compute time) is to always err on making the network larger (as large as you're willing to wait for it to compute) and then try different dropout values (between 0,1). Whatever model has the best validation performance (the loss, written in the checkpoint filename, low is good) is the one you should use in the end.\n",
        "\n",
        ">It is very common in deep learning to run many different models with many different hyperparameter settings, and in the end take whatever checkpoint gave the best validation performance.\n",
        "\n",
        ">By the way, the size of your training and validation splits are also parameters. Make sure you have a decent amount of data in your validation set or otherwise the validation performance will be noisy and not very informative."
      ]
    },
    {
      "metadata": {
        "id": "xjmVBglYolA6",
        "colab_type": "text"
      },
      "cell_type": "markdown",
      "source": [
        "## Checkpoint\n",
        "\n",
        "After training, we'll save the model so we can load it again later if we need too. Here I'm saving the parameters needed to create the same architecture, the hidden layer hyperparameters and the text characters."
      ]
    },
    {
      "metadata": {
        "id": "DAadJXYwolA8",
        "colab_type": "code",
        "colab": {}
      },
      "cell_type": "code",
      "source": [
        "# change the name, for saving multiple files\n",
        "model_name = 'rnn_x_epoch.net'\n",
        "\n",
        "checkpoint = {'n_hidden': net.n_hidden,\n",
        "              'n_layers': net.n_layers,\n",
        "              'state_dict': net.state_dict(),\n",
        "              'tokens': net.chars}\n",
        "\n",
        "with open(model_name, 'wb') as f:\n",
        "    torch.save(checkpoint, f)"
      ],
      "execution_count": 0,
      "outputs": []
    },
    {
      "metadata": {
        "id": "SFWXXqERolBB",
        "colab_type": "text"
      },
      "cell_type": "markdown",
      "source": [
        "---\n",
        "## Making Predictions\n",
        "\n",
        "Now that the model is trained, we'll want to sample from it and make predictions about next characters! To sample, we pass in a character and have the network predict the next character. Then we take that character, pass it back in, and get another predicted character. Just keep doing this and you'll generate a bunch of text!\n",
        "\n",
        "### A note on the `predict`  function\n",
        "\n",
        "The output of our RNN is from a fully-connected layer and it outputs a **distribution of next-character scores**.\n",
        "\n",
        "> To actually get the next character, we apply a softmax function, which gives us a *probability* distribution that we can then sample to predict the next character.\n",
        "\n",
        "### Top K sampling\n",
        "\n",
        "Our predictions come from a categorical probability distribution over all the possible characters. We can make the sample text and make it more reasonable to handle (with less variables) by only considering some $K$ most probable characters. This will prevent the network from giving us completely absurd characters while allowing it to introduce some noise and randomness into the sampled text. Read more about [topk, here](https://pytorch.org/docs/stable/torch.html#torch.topk).\n"
      ]
    },
    {
      "metadata": {
        "id": "9BoznT28olBF",
        "colab_type": "code",
        "colab": {}
      },
      "cell_type": "code",
      "source": [
        "def predict(net, char, h=None, top_k=None):\n",
        "        ''' Given a character, predict the next character.\n",
        "            Returns the predicted character and the hidden state.\n",
        "        '''\n",
        "        \n",
        "        # tensor inputs\n",
        "        x = np.array([[net.char2int[char]]])\n",
        "        x = one_hot_encode(x, len(net.chars))\n",
        "        inputs = torch.from_numpy(x)\n",
        "        \n",
        "        if(train_on_gpu):\n",
        "            inputs = inputs.cuda()\n",
        "        \n",
        "        # detach hidden state from history\n",
        "        h = tuple([each.data for each in h])\n",
        "        # get the output of the model\n",
        "        out, h = net(inputs, h)\n",
        "\n",
        "        # get the character probabilities\n",
        "        p = F.softmax(out, dim=1).data\n",
        "        if(train_on_gpu):\n",
        "            p = p.cpu() # move to cpu\n",
        "        \n",
        "        # get top characters\n",
        "        if top_k is None:\n",
        "            top_ch = np.arange(len(net.chars))\n",
        "        else:\n",
        "            p, top_ch = p.topk(top_k)\n",
        "            top_ch = top_ch.numpy().squeeze()\n",
        "        \n",
        "        # select the likely next character with some element of randomness\n",
        "        p = p.numpy().squeeze()\n",
        "        char = np.random.choice(top_ch, p=p/p.sum())\n",
        "        \n",
        "        # return the encoded value of the predicted char and the hidden state\n",
        "        return net.int2char[char], h"
      ],
      "execution_count": 0,
      "outputs": []
    },
    {
      "metadata": {
        "id": "vZN11KOaolBO",
        "colab_type": "text"
      },
      "cell_type": "markdown",
      "source": [
        "### Priming and generating text \n",
        "\n",
        "Typically you'll want to prime the network so you can build up a hidden state. Otherwise the network will start out generating characters at random. In general the first bunch of characters will be a little rough since it hasn't built up a long history of characters to predict from."
      ]
    },
    {
      "metadata": {
        "id": "jD7s7YlDolBQ",
        "colab_type": "code",
        "colab": {}
      },
      "cell_type": "code",
      "source": [
        "def sample(net, size, prime='The', top_k=None):\n",
        "        \n",
        "    if(train_on_gpu):\n",
        "        net.cuda()\n",
        "    else:\n",
        "        net.cpu()\n",
        "    \n",
        "    net.eval() # eval mode\n",
        "    \n",
        "    # First off, run through the prime characters\n",
        "    chars = [ch for ch in prime]\n",
        "    h = net.init_hidden(1)\n",
        "    for ch in prime:\n",
        "        char, h = predict(net, ch, h, top_k=top_k)\n",
        "\n",
        "    chars.append(char)\n",
        "    \n",
        "    # Now pass in the previous character and get a new one\n",
        "    for ii in range(size):\n",
        "        char, h = predict(net, chars[-1], h, top_k=top_k)\n",
        "        chars.append(char)\n",
        "\n",
        "    return ''.join(chars)"
      ],
      "execution_count": 0,
      "outputs": []
    },
    {
      "metadata": {
        "id": "Mivn5STaolBV",
        "colab_type": "code",
        "colab": {
          "base_uri": "https://localhost:8080/",
          "height": 305
        },
        "outputId": "cdca7d16-8c11-41a1-894d-e5b4cf974dc4"
      },
      "cell_type": "code",
      "source": [
        "print(sample(net, 1000, prime='Anna', top_k=5))"
      ],
      "execution_count": 49,
      "outputs": [
        {
          "output_type": "stream",
          "text": [
            "Anna had taken up\n",
            "the seemed attack. The more in a looking was an offer and well than he had\n",
            "come, to dance, with a smile, she wanted to control. The paters, her element in socrel and happy\n",
            "in the crust walk in soceely. \"The character came a fire of the carriages on her husband.\n",
            "\n",
            "They content far as he was a man that same, as it was not as she considered, there were\n",
            "no more that he did not like that histers. The play of her horse, she struck her\n",
            "his face, and, went out to the powing of the creat of pollion of the same.\n",
            "\n",
            "\"You're already there was nothing?\" said Levin, smiling at her tears,\n",
            "and was long of to hard, and a table together\n",
            "seemed to his mother, as the provossion of the mortice and towards her\n",
            "at the master, was spililly, as he was talking of something in the muscom of\n",
            "his secretary, and shaking her humble, and hust off, and still merching to\n",
            "the ladies of this lady. The more chinning him that in spett charm of the same time,\n",
            "and his secret, she wanted to say to her, and hid in te\n"
          ],
          "name": "stdout"
        }
      ]
    },
    {
      "metadata": {
        "id": "lTy1ZHB_olBa",
        "colab_type": "text"
      },
      "cell_type": "markdown",
      "source": [
        "## Loading a checkpoint"
      ]
    },
    {
      "metadata": {
        "id": "muhAAcNzolBc",
        "colab_type": "code",
        "colab": {}
      },
      "cell_type": "code",
      "source": [
        "# Here we have loaded in a model that trained over 20 epochs `rnn_20_epoch.net`\n",
        "with open('rnn_x_epoch.net', 'rb') as f:\n",
        "    checkpoint = torch.load(f)\n",
        "    \n",
        "loaded = CharRNN(checkpoint['tokens'], n_hidden=checkpoint['n_hidden'], n_layers=checkpoint['n_layers'])\n",
        "loaded.load_state_dict(checkpoint['state_dict'])"
      ],
      "execution_count": 0,
      "outputs": []
    },
    {
      "metadata": {
        "id": "IISfgKKYolBi",
        "colab_type": "code",
        "colab": {
          "base_uri": "https://localhost:8080/",
          "height": 1781
        },
        "outputId": "5e4f6a7c-6ae1-45a0-c28c-332a8356709e"
      },
      "cell_type": "code",
      "source": [
        "# Sample using a loaded model\n",
        "print(sample(loaded, 5000, top_k=5, prime=\"In 2019, Anna wants to \"))"
      ],
      "execution_count": 58,
      "outputs": [
        {
          "output_type": "stream",
          "text": [
            "In 2019, Anna wants to get the mowing towards\n",
            "the room.\n",
            "\n",
            "\"What's the consciences in interested and the courtes,\" he said to\n",
            "her said and she spoke her head and wild like the same time servicely and taking\n",
            "sitting of his.\n",
            "\n",
            "\"Oh, nothing.\"\n",
            "\n",
            "\"Oh, well, thank God?\" he said she heard to her, \"I was so told them to terry about her.\n",
            "\n",
            "As he could not help secing him, with his happy, he was counting his stury.\n",
            "\n",
            "\"Where are the peasants, and I ask the patter. In the last time she was\n",
            "not specially then the children, and he had been currying away at\n",
            "anything. But he done that he cared to see his base.\n",
            "\n",
            "\"Itasteds the liversy was in cover of the room.\n",
            "To get in some on you have a celtar membluss of thinging\n",
            "of the mare's attich, at the through that should be done it seemed for a side.\n",
            "Well, what is to spoken, I will be the string, better to be the same to lay only anything, to talk\n",
            "with him. And when the course is no one takes in the princess's. And as it asked her to\n",
            "his wife. A complaint--as he was. She wanted to say to\n",
            "him; there was natural and departune of the part of the child of the\n",
            "regardent conversation. His brother Nikolay, and she sent to look at them intricee,\n",
            "something that the chair is with his mouth.\n",
            "\n",
            "\"It's one of your hands. A fool talking!\" she said to himself. \"But I have\n",
            "not must let her to say. That money you should be any more than eary from the\n",
            "presens for them,\" said Levin, and the mirt like stipled over her\n",
            "arm.\n",
            "He clanged away to his charm in the same time, took his storm and the principles of his\n",
            "son and together; \"there we chance that shame in the looking-goos when the man with\n",
            "marriages, he could not be so glad to mean the merchants, which would not let us be\n",
            "serieray, and as he had back her shoulders. But her host luckily creater\n",
            "han before all thriety, and a long whole sisting of stellighments.\n",
            "\n",
            "\"What's to be an end to sort of my land.\"\n",
            "\n",
            "\"Yes; I should say, I didn't comple that year, as you want to see the peasants.\"\n",
            "\n",
            "Levin liked to him with a\n",
            "milited steps would have struct her their past there, he had not still let, an\n",
            "externel sounds of surminises. She saw now that there would be a long oug and\n",
            "stooding, with the sensation of at all, and he stood her service.\n",
            "\n",
            "The peasants, was a children and a genious principal.\n",
            "\n",
            "\"Yes, if it is true?\"\n",
            " \"You're anything.\"\n",
            "\n",
            "Levin sat down, but at the partition of his humble she spoke to her arm,, and ther burned\n",
            "his face in a\n",
            "party falling and shoot and leg a sprend to the races.\n",
            "\n",
            "\"You were sitting down as a promosely at a longer. And I should love me,\n",
            "and the present me of the conversation in the morning. With her mather, and the\n",
            "prefision in the sends of tree to be in the morning, as it were, and the mistle of a\n",
            "man't consideration, and he could not have treen the soult, out of the strangers, and his\n",
            "special position in his welk astection and atained his health, and the caressing\n",
            "sounds of husbandry. And he had boend to begin thinking, and\n",
            "to take the strange and self-confidence, and ansious sime to be true that something was\n",
            "torayer in a corder. Sergey Ivanovitch stood silent, betages the\n",
            "princess had always been thinky to a cappitaly the princess, with her, she came\n",
            "across the samily op thome first, with her husband, world were\n",
            "the same a splendid for her soul shiring at once, was shamening there to ball on\n",
            "the sath of a brealing wife, white light.\n",
            "\n",
            "\"Wo longed merth to let us take the same answered,\" said Anna, and as though she\n",
            "had stray humble and at the there to her hat... His mother were to take it,\n",
            "and the cold stretch of her leftle sense at in it, and this will, when\n",
            "she said to him, and again as he was never said, and he said,\n",
            "smiling.\n",
            "\n",
            "She was not taring off what was sold. She had not strong now, and stepped\n",
            "in the land.. Sergey Ivanovitch was concinely and seeing how he was still\n",
            "he was all right. Betinners, as he had to be taken off the spiritual\n",
            "conversation was the chance, and had been tort out too. Before\n",
            "him to take her for through a string names of sincingest.\n",
            "\n",
            "She went into his mare, trying to brang him with superiors on the croum, he\n",
            "saw the marriage had sent the children and trying to gat out again, and\n",
            "he had not contraliced the princess was corcented about the peasants, and\n",
            "another matter in which he were almisting to the princess, a day when they heard her shadow, and\n",
            "sat down agee the station. Alexey Alexandrovitch had taken off that in the same shoulders.\n",
            "\n",
            "Learily taken his hands and creaming on her. He was still looking.\n",
            "\n",
            "The countiss of the cour extorn of the same distant cheeks where the sort of\n",
            "consequently sat down and a steps to him the share, had standing, and\n",
            "went up and heard a strange time, he was not at the trup, and showed\n",
            "his heed. \"You know that they were to go away to make\n",
            "an one all done for the country. But you know? I had all said to her\n",
            "to be about. I have the story on me to see him with her heres and sen of\n",
            "all. It's a position for the room.\"\n",
            "\n",
            "\"Where's the steps of my leature is more and mercy, the point of\n",
            "caunes to see them? Where a\n"
          ],
          "name": "stdout"
        }
      ]
    },
    {
      "metadata": {
        "id": "oxz1UkGiolBn",
        "colab_type": "code",
        "colab": {}
      },
      "cell_type": "code",
      "source": [
        ""
      ],
      "execution_count": 0,
      "outputs": []
    }
  ]
}